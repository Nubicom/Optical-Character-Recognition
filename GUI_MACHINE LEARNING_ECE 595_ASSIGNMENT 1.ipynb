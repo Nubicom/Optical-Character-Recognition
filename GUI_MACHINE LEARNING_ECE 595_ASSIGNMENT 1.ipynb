{
 "cells": [
  {
   "cell_type": "code",
   "execution_count": 1,
   "id": "2a961c32",
   "metadata": {},
   "outputs": [],
   "source": [
    "from cProfile import label\n",
    "from tkinter import *\n",
    "import tkinter as tk\n",
    "from tkinter import Label, filedialog\n",
    "import os\n",
    "import cv2\n",
    "import pytesseract\n",
    "from PIL import Image, ImageTk\n",
    "pytesseract.pytesseract.tesseract_cmd = r'C:\\Program Files (x86)\\Tesseract-OCR\\tesseract'\n",
    "\n",
    "\n",
    "\n",
    "\n",
    "def disp_image_text():\n",
    "\n",
    "    img_file = filedialog.askopenfilename(initialdir=os.getcwd(),title=\"Select Image File\",filetypes=((\"JPG File\", \"*.jpg\"),(\"JPEG File\", \"*.jpeg\"),(\"PNG File\",\"*.png\"),(\"All Files\",\"*.*\")))\n",
    "    img = Image.open(img_file)\n",
    "    read_text = pytesseract.image_to_string(img)\n",
    "    img.thumbnail((200, 200))\n",
    "    img = ImageTk.PhotoImage(img)\n",
    "    lbel.configure(image = img)\n",
    "    lbel.image = img\n",
    "    lbel2.configure(text=read_text)\n",
    "    lbel2.text = read_text\n",
    "    \n",
    "\n",
    "\n",
    "root = tk.Tk()\n",
    "root.title(\"GUI_MACHINE LEARNING_ECE 595_ASSIGNMENT 1\")\n",
    "root.geometry(\"720x680\")\n",
    "\n",
    "\n",
    "    \n",
    "\n",
    "\n",
    "frame = Frame(root)\n",
    "frame.place(relwidth=0.9,relheight=0.8,relx=-0.3, rely=0.9)\n",
    "\n",
    "\n",
    "lbel = Label(root)\n",
    "lbel2=Label(root)\n",
    "lbel.pack()\n",
    "lbel2.pack()\n",
    "button_image_text = Button(frame , text= \"Open Image and Display text\", command = disp_image_text,padx=15,pady=10, fg=\"white\", bg =\"#263D42\")\n",
    "button_image_text.pack()\n",
    "\n",
    "\n",
    "\n",
    "\n",
    "root.mainloop()\n"
   ]
  },
  {
   "cell_type": "code",
   "execution_count": null,
   "id": "6edaf17b",
   "metadata": {},
   "outputs": [],
   "source": []
  }
 ],
 "metadata": {
  "kernelspec": {
   "display_name": "Python 3",
   "language": "python",
   "name": "python3"
  },
  "language_info": {
   "codemirror_mode": {
    "name": "ipython",
    "version": 3
   },
   "file_extension": ".py",
   "mimetype": "text/x-python",
   "name": "python",
   "nbconvert_exporter": "python",
   "pygments_lexer": "ipython3",
   "version": "3.8.8"
  }
 },
 "nbformat": 4,
 "nbformat_minor": 5
}
